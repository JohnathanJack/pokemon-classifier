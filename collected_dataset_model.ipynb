{
 "cells": [
  {
   "attachments": {},
   "cell_type": "markdown",
   "metadata": {},
   "source": [
    "Dataset was taken from googling each pokemon's name and using the Download All Images extension to collect each image. I combined it with the [kaggle dataset]((https://www.kaggle.com/datasets/lantian773030/pokemonclassification)) from the previous notebook (starter_classifier.ipynb) to have a larger dataset to work with!"
   ]
  },
  {
   "attachments": {},
   "cell_type": "markdown",
   "metadata": {},
   "source": [
    "Process of cleaning the images obtained:\n",
    "1. Removed files that were less than 10kb\n",
    "2. Manually removed photos that were showing incorrect pictures\n",
    "    - no cards, cosplay, incorrect pokemon, any photos with more than the intended pokemon"
   ]
  },
  {
   "cell_type": "code",
   "execution_count": 30,
   "metadata": {},
   "outputs": [],
   "source": [
    "import tensorflow as tf\n",
    "import numpy as np\n",
    "import pandas as pd\n",
    "import matplotlib.pyplot as plt\n",
    "import cv2\n",
    "import imghdr\n",
    "import os\n",
    "from tensorflow.keras.preprocessing import image\n",
    "from tensorflow.keras.layers import Dense, Input, Conv2D, BatchNormalization, MaxPooling2D, Dropout, Flatten\n",
    "from tensorflow.keras.models import Model\n",
    "from tensorflow.keras.preprocessing.image import ImageDataGenerator"
   ]
  },
  {
   "attachments": {},
   "cell_type": "markdown",
   "metadata": {},
   "source": [
    "Check the images and remove any that do not conform to a jpeg, jpg, bmp or png file or ones that are unable to open in python. Prints out the number of files in the end to look for any unbias sampling of data."
   ]
  },
  {
   "cell_type": "code",
   "execution_count": 21,
   "metadata": {},
   "outputs": [
    {
     "name": "stdout",
     "output_type": "stream",
     "text": [
      "Number of files for bulbasaur : 101\n",
      "Number of files for charmander : 93\n",
      "Number of files for pikachu : 108\n",
      "Number of files for squirtle : 106\n"
     ]
    }
   ],
   "source": [
    "data_dir = 'C:/Users/John/Documents/ml_projects/pokemon-classifier/data/collected_dataset'\n",
    "image_exts = ['jpeg', 'jpg','bmp','png']\n",
    "for folder in os.listdir(data_dir):\n",
    "    for image in os.listdir(os.path.join(data_dir, folder)):\n",
    "        image_path = os.path.join(data_dir, folder, image)\n",
    "        try:\n",
    "            img = cv2.imread(image_path)\n",
    "            tip = imghdr.what(image_path)\n",
    "            if tip not in image_exts:\n",
    "                os.remove(image_path)\n",
    "        except Exception as e:\n",
    "            print('Image Issue {}'.format(image_path))\n",
    "    print('Number of files for',folder,':', len(os.listdir(os.path.join(data_dir, folder))))"
   ]
  },
  {
   "attachments": {},
   "cell_type": "markdown",
   "metadata": {},
   "source": [
    "From the folder with subfolders of each pokemon and their corresponding pictures, utilize splitfolders to randomly split the dataset into a train, val and test folder  to be used for model training and testing."
   ]
  },
  {
   "cell_type": "code",
   "execution_count": 24,
   "metadata": {},
   "outputs": [
    {
     "name": "stderr",
     "output_type": "stream",
     "text": [
      "Copying files: 408 files [00:00, 822.58 files/s]\n"
     ]
    }
   ],
   "source": [
    "import splitfolders\n",
    "splitfolders.ratio(data_dir, output='output_folder', seed=1, ratio=(0.8,0.1,0.1))"
   ]
  },
  {
   "cell_type": "markdown",
   "metadata": {},
   "source": [
    "Rescale all images and have them in a format of 256px by 256px"
   ]
  },
  {
   "cell_type": "code",
   "execution_count": 25,
   "metadata": {},
   "outputs": [
    {
     "name": "stdout",
     "output_type": "stream",
     "text": [
      "Found 324 images belonging to 4 classes.\n",
      "Found 39 images belonging to 4 classes.\n"
     ]
    }
   ],
   "source": [
    "train = ImageDataGenerator(rescale=1/256.0)\n",
    "validation = ImageDataGenerator(rescale=1/256.0)\n",
    "\n",
    "train_ds = train.flow_from_directory(\n",
    "    'C:/Users/John/Documents/ml_projects/pokemon-classifier/output_folder/train',\n",
    "    color_mode='rgb',\n",
    "    batch_size=32,\n",
    "    target_size=(256,256),\n",
    "    shuffle=True,\n",
    "    seed=1\n",
    ")\n",
    "val_ds = validation.flow_from_directory(\n",
    "    'C:/Users/John/Documents/ml_projects/pokemon-classifier/output_folder/val',\n",
    "    color_mode='rgb',\n",
    "    batch_size=32,\n",
    "    target_size=(256,256),\n",
    "    shuffle=True,\n",
    "    seed=1\n",
    ")"
   ]
  },
  {
   "cell_type": "code",
   "execution_count": 26,
   "metadata": {},
   "outputs": [],
   "source": [
    "i = Input(shape=(256,256,3))\n",
    "x = Conv2D(32, (3,3), activation='relu', padding = 'same')(i)\n",
    "x = Conv2D(32, (3,3), activation='relu', padding = 'same')(x)\n",
    "x = MaxPooling2D((2,2))(x)\n",
    "x = Conv2D(64, (3,3), activation='relu', padding = 'same')(x)\n",
    "x = Conv2D(64, (3,3), activation = 'relu', padding='same')(x)\n",
    "x = MaxPooling2D((2,2))(x)\n",
    "x = Conv2D(128, (3,3), activation = 'relu', padding = 'same')(x)\n",
    "x = Conv2D(128, (3,3), activation = 'relu', padding= 'same')(x)\n",
    "x = MaxPooling2D((2,2))(x)\n",
    "x = Flatten()(x)\n",
    "\n",
    "x = Dropout(0.5)(x)\n",
    "x = Dense(1024, activation='relu')(x)\n",
    "x = Dropout(0.2)(x)\n",
    "x = Dense(512, activation='relu')(x)\n",
    "x = Dropout(0.2)(x)\n",
    "x = Dense(128, activation='relu')(x)\n",
    "x = Dropout(0.5)(x)\n",
    "x = Dense(4, activation='softmax')(x)\n",
    "model = Model(i,x)"
   ]
  },
  {
   "cell_type": "code",
   "execution_count": 27,
   "metadata": {},
   "outputs": [],
   "source": [
    "model.compile(optimizer='adam', loss='categorical_crossentropy', metrics=['accuracy'])"
   ]
  },
  {
   "cell_type": "code",
   "execution_count": null,
   "metadata": {},
   "outputs": [],
   "source": [
    "model_fit = model.fit(train_ds, epochs=200, validation_data=val_ds)"
   ]
  },
  {
   "cell_type": "code",
   "execution_count": null,
   "metadata": {},
   "outputs": [],
   "source": [
    "plt.plot(model_fit.history['loss'], label='loss')\n",
    "plt.plot(model_fit.history['val_loss'], label = 'val_loss')\n",
    "plt.legend()"
   ]
  },
  {
   "cell_type": "code",
   "execution_count": null,
   "metadata": {},
   "outputs": [],
   "source": [
    "plt.plot(model_fit.history['accuracy'], label='acc')\n",
    "plt.plot(model_fit.history['val_accuracy'], label='val_acc')\n",
    "plt.legend()"
   ]
  },
  {
   "cell_type": "code",
   "execution_count": 32,
   "metadata": {},
   "outputs": [
    {
     "data": {
      "image/png": "[encoded data removed]",
      "text/plain": [
       "<Figure size 432x288 with 1 Axes>"
      ]
     },
     "metadata": {
      "needs_background": "light"
     },
     "output_type": "display_data"
    }
   ],
   "source": [
    "test_image = image.load_img('C:/Users/John/Documents/ml_projects/pokemon-classifier/output_folder/test/pikachu/Pikachu6.jpg', target_size=(256,256))\n",
    "plt.imshow(test_image)\n",
    "plt.show()"
   ]
  },
  {
   "cell_type": "code",
   "execution_count": null,
   "metadata": {},
   "outputs": [],
   "source": [
    "true_list = []\n",
    "prediction_list = []\n",
    "for i in os.listdir(data_dir):\n",
    "  for starter in os.listdir(os.path.join(data_dir, folder)):\n",
    "    img = image.load_img(os.path.join(data_dir, folder, image), target_size=(256,256))\n",
    "    plt.imshow(img)\n",
    "    plt.show()\n",
    "    true_list.append(i)\n",
    "\n",
    "    X = image.img_to_array(img)\n",
    "    X = np.expand_dims(X, axis=0)\n",
    "    images = np.vstack([X])\n",
    "    predictions = model.predict(images).argmax(1)\n",
    "    prediction_list.append(predictions)\n",
    "    if predictions == 0:\n",
    "      pokemon = 'bulbasaur'\n",
    "    if predictions == 1:\n",
    "      pokemon = 'charmander'\n",
    "    if predictions == 2:\n",
    "      pokemon = 'pikachu'\n",
    "    if predictions == 3:\n",
    "      pokemon = 'squirtle'\n",
    "    print('predict: ', pokemon)\n",
    "    print('true: ', i)\n",
    "\n",
    "for i in range(len(true_list)):\n",
    "  if true_list[i] == 'Squirtle':\n",
    "    true_list[i] = 3\n",
    "  if true_list[i] == 'Bulbasaur':\n",
    "    true_list[i] = 0\n",
    "  if true_list[i] == 'Charmander':\n",
    "    true_list[i] = 1\n",
    "  if true_list[i] == 'Pikachu':\n",
    "    true_list[i] = 2"
   ]
  },
  {
   "cell_type": "code",
   "execution_count": 33,
   "metadata": {},
   "outputs": [],
   "source": [
    "from sklearn.metrics import confusion_matrix\n",
    "import itertools\n",
    "\n",
    "def plot_confusion_matrix(cm, classes,\n",
    "                          normalize=False,\n",
    "                          title='Confusion matrix',\n",
    "                          cmap=plt.cm.Blues):\n",
    "  \"\"\"\n",
    "  This function prints and plots the confusion matrix.\n",
    "  Normalization can be applied by setting `normalize=True`.\n",
    "  \"\"\"\n",
    "  if normalize:\n",
    "      cm = cm.astype('float') / cm.sum(axis=1)[:, np.newaxis]\n",
    "      print(\"Normalized confusion matrix\")\n",
    "  else:\n",
    "      print('Confusion matrix, without normalization')\n",
    "\n",
    "  print(cm)\n",
    "\n",
    "  plt.imshow(cm, interpolation='nearest', cmap=cmap)\n",
    "  plt.title(title)\n",
    "  plt.colorbar()\n",
    "  tick_marks = np.arange(len(classes))\n",
    "  plt.xticks(tick_marks, classes, rotation=45)\n",
    "  plt.yticks(tick_marks, classes)\n",
    "\n",
    "  fmt = '.2f' if normalize else 'd'\n",
    "  thresh = cm.max() / 2.\n",
    "  for i, j in itertools.product(range(cm.shape[0]), range(cm.shape[1])):\n",
    "      plt.text(j, i, format(cm[i, j], fmt),\n",
    "               horizontalalignment=\"center\",\n",
    "               color=\"white\" if cm[i, j] > thresh else \"black\")\n",
    "\n",
    "  plt.tight_layout()\n",
    "  plt.ylabel('True label')\n",
    "  plt.xlabel('Predicted label')\n",
    "  plt.show()"
   ]
  },
  {
   "cell_type": "code",
   "execution_count": null,
   "metadata": {},
   "outputs": [],
   "source": [
    "p_test = model.predict(images).argmax(axis=1)\n",
    "cm = confusion_matrix(true_list, prediction_list)\n",
    "plot_confusion_matrix(cm, list(range(4)))"
   ]
  }
 ],
 "metadata": {
  "kernelspec": {
   "display_name": "py_test_env",
   "language": "python",
   "name": "python3"
  },
  "language_info": {
   "codemirror_mode": {
    "name": "ipython",
    "version": 3
   },
   "file_extension": ".py",
   "mimetype": "text/x-python",
   "name": "python",
   "nbconvert_exporter": "python",
   "pygments_lexer": "ipython3",
   "version": "3.9.15"
  },
  "orig_nbformat": 4
 },
 "nbformat": 4,
 "nbformat_minor": 2
}
