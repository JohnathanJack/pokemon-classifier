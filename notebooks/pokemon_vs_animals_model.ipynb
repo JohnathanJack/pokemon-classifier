{
 "cells": [
  {
   "attachments": {},
   "cell_type": "markdown",
   "metadata": {},
   "source": [
    "Pokemon dataset was taken from the pokemon image dataset on [Kaggle](https://www.kaggle.com/datasets/lantian773030/pokemonclassification). All pokemon is used compared to the previous models where it was only the four starter pokemons. Animal dataset was taken from the animal image dataset on [Kaggle](https://www.kaggle.com/datasets/iamsouravbanerjee/animal-image-dataset-90-different-animals). Both were combined and formed to create a binary classification model that can differentiate between a real life animal and a pokemon."
   ]
  },
  {
   "cell_type": "code",
   "execution_count": 154,
   "metadata": {},
   "outputs": [],
   "source": [
    "import tensorflow as tf\n",
    "import numpy as np\n",
    "import pandas as pd\n",
    "import matplotlib.pyplot as plt\n",
    "from tensorflow.keras.preprocessing import image\n",
    "from tensorflow.keras.preprocessing.image import ImageDataGenerator\n",
    "from tensorflow.keras.layers import Dense, Input, Conv2D, MaxPooling2D, Dropout, Flatten, GlobalMaxPooling2D\n",
    "from tensorflow.keras.models import Model\n",
    "from tensorflow.keras.applications import VGG16\n",
    "import os\n",
    "import shutil\n",
    "import splitfolders\n",
    "import random"
   ]
  },
  {
   "attachments": {},
   "cell_type": "markdown",
   "metadata": {},
   "source": [
    "As the images are all in subdirectories of each folder, I will use the created function below to move the images in the subfolders into a new folder depending on if it is an animal or pokemon."
   ]
  },
  {
   "cell_type": "code",
   "execution_count": 62,
   "metadata": {},
   "outputs": [],
   "source": [
    "animal_data_dir = 'C:/Users/John/Documents/ml_projects/pokemon-classifier/data/animals'\n",
    "pokemon_data_dir = 'C:/Users/John/Documents/ml_projects/pokemon-classifier/data/all_pokemon'\n",
    "new_animal_dir = 'C:/Users/John/Documents/ml_projects/pokemon-classifier/data/all_images/all_animals'\n",
    "new_pokemon_dir = 'C:/Users/John/Documents/ml_projects/pokemon-classifier/data/all_images/all_pokemon'\n",
    "\n",
    "def copy_files(initial_directory, final_directory, subfolder = True):\n",
    "    \"\"\"\n",
    "    Takes in two folder locations where it will transfer the items in the subfolders of initial_directory \n",
    "    to the final directory folder. If subfolder is False, it will transfer the items in the initial directory \n",
    "    to the new folder directory\n",
    "\n",
    "    \n",
    "    Parameters:\n",
    "        initial_directory: folder with subfolders of images\n",
    "        final_directory: folder where all images will be copied to\n",
    "    \n",
    "    Returns:\n",
    "        A folder which has all images from the initial_directory copied into it\n",
    "\n",
    "    \"\"\"\n",
    "    if subfolder == True:\n",
    "        for item in os.listdir(initial_directory):\n",
    "            for image in os.listdir(os.path.join(initial_directory, item)):\n",
    "                image_path = os.path.join(initial_directory, item, image)\n",
    "                shutil.copy(image_path, final_directory)\n",
    "    elif subfolder == False:\n",
    "        for item in os.listdir(initial_directory):\n",
    "            image_path = os.path.join(initial_directory, item)\n",
    "            shutil.copy(image_path, final_directory)"
   ]
  },
  {
   "cell_type": "code",
   "execution_count": null,
   "metadata": {},
   "outputs": [],
   "source": [
    "copy_files(animal_data_dir, new_animal_dir)\n",
    "copy_files(pokemon_data_dir, new_pokemon_dir)"
   ]
  },
  {
   "attachments": {},
   "cell_type": "markdown",
   "metadata": {},
   "source": [
    "After the cell runs above, I will double check the correct number of images have been copied over to the new folder and delete the original to save space. \n",
    "\n",
    "I will check if there is an issue of sampling bias by seeing if there is a large discrepency in the amount of images for both"
   ]
  },
  {
   "cell_type": "code",
   "execution_count": 71,
   "metadata": {},
   "outputs": [
    {
     "name": "stdout",
     "output_type": "stream",
     "text": [
      "number of animal images:  5399\n",
      "number of pokemon images:  6742\n",
      "total images:  12141\n",
      "fraction of animal to pokemon images:  0.4446915410592208\n"
     ]
    }
   ],
   "source": [
    "num_animal_images = len(os.listdir(new_animal_dir))\n",
    "num_pokemon_images = len(os.listdir(new_pokemon_dir))\n",
    "print('number of animal images: ', num_animal_images)\n",
    "print('number of pokemon images: ', num_pokemon_images)\n",
    "total_images = num_animal_images + num_pokemon_images\n",
    "print('total images: ', total_images)\n",
    "print('fraction of animal to pokemon images: ', num_animal_images/total_images)"
   ]
  },
  {
   "attachments": {},
   "cell_type": "markdown",
   "metadata": {},
   "source": [
    "As there more pokemon images, I will use undersampling and randomly choose 5399 images of pokemon to balance the dataset. I will repeat the process above and move the selected images to a new folder where the train,test,validation split will occur. "
   ]
  },
  {
   "cell_type": "code",
   "execution_count": 172,
   "metadata": {},
   "outputs": [],
   "source": [
    "np.random.seed(seed=10)\n",
    "selected_pokemon = np.random.permutation(os.listdir(new_pokemon_dir))[:5399].tolist()\n",
    "selected_pokemon_list = [os.path.join(new_pokemon_dir, image) for image in selected_pokemon]"
   ]
  },
  {
   "cell_type": "code",
   "execution_count": 168,
   "metadata": {},
   "outputs": [],
   "source": [
    "def same_name_copy(initial_file_name, final_file_name):\n",
    "    \"\"\"\n",
    "    Checks to see if the initial file name has a copy already in the folder it is being moved into.\n",
    "\n",
    "    Parameters:\n",
    "        initial_file_name: the name of the initial file\n",
    "        final_file_name: the name of the folder the file is being moved into\n",
    "    \n",
    "    Returns:\n",
    "        Changes the name of the file if its name is already taken and copies it into the final folder.\n",
    "    \"\"\"\n",
    "    name = os.path.basename(initial_file_name)\n",
    "    if not os.path.exists(os.path.join(final_file_name, name)):\n",
    "        shutil.copy(initial_file_name, os.path.join(final_file_name, name))\n",
    "    else:\n",
    "        root, extension = os.path.splitext(name)\n",
    "        i = 1\n",
    "        while os.path.exists(os.path.join(final_file_name, f'{root}_{i}{extension}')):\n",
    "            i += 1\n",
    "        shutil.copy(initial_file_name, os.path.join(final_file_name, f'{root}_{i}{extension}'))\n"
   ]
  },
  {
   "cell_type": "code",
   "execution_count": null,
   "metadata": {},
   "outputs": [],
   "source": [
    "final_pokemon_dir = 'C:/Users/John/Documents/ml_projects/pokemon-classifier/data/train_test_val/pokemon'\n",
    "final_animal_dir = 'C:/Users/John/Documents/ml_projects/pokemon-classifier/data/train_test_val/animal'\n",
    "\n",
    "copy_files(new_animal_dir, final_animal_dir, subfolder=False)\n",
    "for image in selected_pokemon_list:\n",
    "    same_name_copy(image, final_pokemon_dir)\n"
   ]
  },
  {
   "cell_type": "code",
   "execution_count": 176,
   "metadata": {},
   "outputs": [
    {
     "name": "stdout",
     "output_type": "stream",
     "text": [
      "number of animal images:  5399\n",
      "number of pokemon images:  5399\n"
     ]
    }
   ],
   "source": [
    "print('number of animal images: ', len(os.listdir(final_animal_dir)))\n",
    "print('number of pokemon images: ', len(os.listdir(final_pokemon_dir)))"
   ]
  },
  {
   "attachments": {},
   "cell_type": "markdown",
   "metadata": {},
   "source": [
    "Now it is time to split up the dataset into a train, validation and test set"
   ]
  },
  {
   "cell_type": "code",
   "execution_count": 177,
   "metadata": {},
   "outputs": [
    {
     "name": "stderr",
     "output_type": "stream",
     "text": [
      "Copying files: 10798 files [00:49, 217.12 files/s]\n"
     ]
    }
   ],
   "source": [
    "all_images = 'C:/Users/John/Documents/ml_projects/pokemon-classifier/data/train_test_val'\n",
    "splitfolders.ratio(all_images, output = 'output_folder', seed = 1, ratio=(0.8,0.1,0.1))"
   ]
  },
  {
   "attachments": {},
   "cell_type": "markdown",
   "metadata": {},
   "source": [
    "Now that the folder is created, I will move it back into the data folder to tidy up the repository. "
   ]
  },
  {
   "cell_type": "code",
   "execution_count": null,
   "metadata": {},
   "outputs": [],
   "source": [
    "train = ImageDataGenerator(rescale=1/255.0)\n",
    "validation = ImageDataGenerator(rescale=1/255.0)\n",
    "\n"
   ]
  }
 ],
 "metadata": {
  "kernelspec": {
   "display_name": "py_test_env",
   "language": "python",
   "name": "python3"
  },
  "language_info": {
   "codemirror_mode": {
    "name": "ipython",
    "version": 3
   },
   "file_extension": ".py",
   "mimetype": "text/x-python",
   "name": "python",
   "nbconvert_exporter": "python",
   "pygments_lexer": "ipython3",
   "version": "3.9.15"
  },
  "orig_nbformat": 4
 },
 "nbformat": 4,
 "nbformat_minor": 2
}
